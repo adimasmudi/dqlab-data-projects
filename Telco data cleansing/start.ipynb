{
 "cells": [
  {
   "cell_type": "markdown",
   "metadata": {},
   "source": [
    "# pengertian\n",
    "\n",
    "DQLab Telco merupakan perusahaan Telco yang sudah mempunyai banyak cabang tersebar dimana-mana. Sejak berdiri pada tahun 2019, DQLab Telco konsisten untuk memperhatikan customer experience-nya sehingga tidak akan ditinggalkan pelanggan.\n",
    "\n",
    "Walaupun baru berumur 1 tahun lebih sedikit, DQLab Telco sudah mempunyai banyak pelanggan yang beralih langganan ke kompetitor. Pihak management ingin mengurangi jumlah pelanggan yang beralih (churn) dengan menggunakan machine learning.\n",
    "\n",
    "Oleh karena itu, tim Data Scientist diminta untuk mempersiapkan data sekaligus membuat model prediksi yang tepat untuk menentukan pelanggan akan berhenti berlangganan (churn) atau tidak."
   ]
  },
  {
   "cell_type": "markdown",
   "metadata": {},
   "source": [
    "# Tugas dan langkah\n",
    "\n",
    "Sebagai seorang data scientist, kamu diminta untuk menyiapkan data sebelum dilakukan permodelan.\n",
    "\n",
    "Pada tugas kali ini, kamu akan melakukan Data Preprocessing (Data Cleansing) bulan lalu, yakni Juni 2020.\n",
    "\n",
    "Langkah yang akan dilakukan adalah,\n",
    "\n",
    "Mencari ID pelanggan (Nomor telepon) yang valid\n",
    "Mengatasi data-data yang masih kosong (Missing Values)\n",
    "Mengatasi Nilai-Nilai Pencilan (Outlier) dari setiap Variable\n",
    "Menstandardisasi Nilai dari Variable"
   ]
  },
  {
   "cell_type": "markdown",
   "metadata": {},
   "source": [
    "# Library yang digunakan\n",
    "\n",
    "Pada analisis kali ini, akan digunakan beberapa package yang membantu kita dalam melakukan analisis data.\n",
    "\n",
    "Pandas\n",
    "\n",
    "Pandas (Python for Data Analysis) adalah library Python yang fokus untuk proses analisis data seperti manipulasi data, persiapan data, dan pembersihan data.\n",
    "\n",
    "read_csv() digunakan untuk membaca file csv\n",
    "\n",
    "str.match() digunakan untuk mencocokan dengan karakter tertentu\n",
    "\n",
    "drop() digunakan untuk menghapus\n",
    "\n",
    "count() digunakan untuk menghitung masing-masing variable\n",
    "\n",
    "drop_duplicates() digunakan untuk menghapus data duplicate rows\n",
    "\n",
    "fillna() digunakan untuk mengisi dengan nilai tertentu\n",
    "\n",
    "quantile() digunakan untuk melihat quantile ke tertentu\n",
    "\n",
    "mask() mengganti nilai tertentu jika kondisi memenuhi\n",
    "\n",
    "astype() mengubah tipe data\n",
    "\n",
    "value_counts() digunakan untuk menghitung unik dari kolom\n",
    "\n",
    "sort_values() digunakan untuk sort values\n",
    "\n",
    "isnull() digunakan untuk mendeteksi missing values\n",
    "\n",
    "dropna() digunakan untuk menghapus missing values\n",
    "\n",
    "replace() digunakan untuk mengganti nilai\n",
    "\n",
    "Matplotlib\n",
    "\n",
    "Matplotlib adalah library Python yang fokus pada visualisasi data seperti membuat plot grafik. Matplotlib dapat digunakan dalam skrip Python, Python dan IPython shell, server aplikasi web, dan beberapa toolkit graphical user interface (GUI) lainnya.\n",
    "\n",
    "figure() digunakan untuk membuat figure gambar baru\n",
    "\n",
    "Seaborn\n",
    "\n",
    "Seaborn membangun di atas Matplotlib dan memperkenalkan tipe plot tambahan. Ini juga membuat plot Matplotlib tradisional Anda terlihat sedikit lebih cantik.\n",
    "\n",
    "box_plot() digunakan untuk membuat box plot"
   ]
  },
  {
   "cell_type": "markdown",
   "metadata": {},
   "source": [
    "# Data yang digunakan\n",
    "\n",
    "Untuk dataset yang digunakan sudah disediakan dalam format csv, silahkan baca melalui fungsi pandas di python df_load = pd.read_csv('https://storage.googleapis.com/dqlab-dataset/dqlab_telco.csv')\n",
    "\n",
    " \n",
    "Untuk detail datanya adalah sebagai berikut:\n",
    "\n",
    "UpdatedAt Periode of Data taken\n",
    "\n",
    "customerID Customer ID\n",
    "\n",
    "gender Whether the customer is a male or a female (Male, Female)\n",
    "\n",
    "SeniorCitizen Whether the customer is a senior citizen or not (1, 0)\n",
    "\n",
    "Partner Whether the customer has a partner or not (Yes, No)\n",
    "\n",
    "Dependents Whether the customer has dependents or not (Yes, No)\n",
    "\n",
    "tenure Number of months the customer has stayed with the company\n",
    "\n",
    "PhoneService Whether the customer has a phone service or not (Yes, No)\n",
    "\n",
    "MultipleLines Whether the customer has multiple lines or not (Yes, No, No phone service)\n",
    "\n",
    "InternetService Customer’s internet service provider (DSL, Fiber optic, No)\n",
    "\n",
    "OnlineSecurity Whether the customer has online security or not (Yes, No, No internet service)\n",
    "\n",
    "OnlineBackup Whether the customer has online backup or not (Yes, No, No internet service)\n",
    "\n",
    "DeviceProtection Whether the customer has device protection or not (Yes, No, No internet service)\n",
    "\n",
    "TechSupport Whether the customer has tech support or not (Yes, No, No internet service)\n",
    "\n",
    "StreamingTV Whether the customer has streaming TV or not (Yes, No, No internet service)\n",
    "\n",
    "StreamingMovies Whether the customer has streaming movies or not (Yes, No, No internet service)\n",
    "\n",
    "Contract The contract term of the customer (Month-to-month, One year, Two year)\n",
    "\n",
    "PaperlessBilling Whether the customer has paperless billing or not (Yes, No)\n",
    "\n",
    "PaymentMethod The customer’s payment method (Electronic check, Mailed check, Bank transfer (automatic), Credit card (automatic))\n",
    "\n",
    "MonthlyCharges The amount charged to the customer monthly\n",
    "\n",
    "TotalCharges The total amount charged to the customer\n",
    "\n",
    "Churn Whether the customer churned or not (Yes or No)"
   ]
  },
  {
   "cell_type": "code",
   "execution_count": 2,
   "metadata": {},
   "outputs": [
    {
     "name": "stdout",
     "output_type": "stream",
     "text": [
      "(7113, 22)\n",
      "   UpdatedAt   customerID  gender  SeniorCitizen Partner Dependents  tenure  \\\n",
      "0     202006  45759018157  Female              0     Yes         No     1.0   \n",
      "1     202006  45557574145    Male              0      No         No    34.0   \n",
      "2     202006  45366876421    Male              0      No         No     2.0   \n",
      "3     202006  45779536532    Male              0      No         No    45.0   \n",
      "4     202006  45923787906  Female              0      No         No     2.0   \n",
      "\n",
      "  PhoneService     MultipleLines InternetService OnlineSecurity OnlineBackup  \\\n",
      "0           No  No phone service             DSL             No          Yes   \n",
      "1          Yes                No             DSL            Yes           No   \n",
      "2          Yes                No             DSL            Yes          Yes   \n",
      "3           No  No phone service             DSL            Yes           No   \n",
      "4          Yes                No     Fiber optic             No           No   \n",
      "\n",
      "  DeviceProtection TechSupport StreamingTV StreamingMovies        Contract  \\\n",
      "0               No          No          No              No  Month-to-month   \n",
      "1              Yes          No          No              No        One year   \n",
      "2               No          No          No              No  Month-to-month   \n",
      "3              Yes         Yes          No              No        One year   \n",
      "4               No          No          No              No  Month-to-month   \n",
      "\n",
      "  PaperlessBilling              PaymentMethod  MonthlyCharges  TotalCharges  \\\n",
      "0              Yes           Electronic check           29.85         29.85   \n",
      "1               No               Mailed check           56.95       1889.50   \n",
      "2              Yes               Mailed check           53.85        108.15   \n",
      "3               No  Bank transfer (automatic)           42.30       1840.75   \n",
      "4              Yes           Electronic check           70.70        151.65   \n",
      "\n",
      "  Churn  \n",
      "0    No  \n",
      "1    No  \n",
      "2   Yes  \n",
      "3    No  \n",
      "4   Yes  \n",
      "['45759018157' '45557574145' '45366876421' ... '45655964195' '45899251814'\n",
      " '45427332508']\n"
     ]
    }
   ],
   "source": [
    "#import library\n",
    "import pandas as pd\n",
    "pd.options.display.max_columns = 50\n",
    "\n",
    "#import dataset\n",
    "df_load = pd.read_csv('https://storage.googleapis.com/dqlab-dataset/dqlab_telco.csv')\n",
    "\n",
    "#Tampilkan jumlah baris dan kolom\n",
    "print(df_load.shape)\n",
    "\n",
    "#Tampilkan 5 data teratas\n",
    "print(df_load.head(5))\n",
    "\n",
    "#Jumlah ID yang unik\n",
    "print(df_load['customerID'].unique())"
   ]
  },
  {
   "cell_type": "code",
   "execution_count": 3,
   "metadata": {},
   "outputs": [
    {
     "name": "stdout",
     "output_type": "stream",
     "text": [
      "7017\n"
     ]
    }
   ],
   "source": [
    "\n",
    "print(df_load.customerID.nunique())"
   ]
  },
  {
   "cell_type": "code",
   "execution_count": null,
   "metadata": {},
   "outputs": [],
   "source": []
  }
 ],
 "metadata": {
  "interpreter": {
   "hash": "50c5c2b6e05db9fe8b3433ad8e6dc52eedfaade324407e06c6799762d580ed33"
  },
  "kernelspec": {
   "display_name": "Python 3.9.7 64-bit",
   "language": "python",
   "name": "python3"
  },
  "language_info": {
   "codemirror_mode": {
    "name": "ipython",
    "version": 3
   },
   "file_extension": ".py",
   "mimetype": "text/x-python",
   "name": "python",
   "nbconvert_exporter": "python",
   "pygments_lexer": "ipython3",
   "version": "3.9.7"
  },
  "orig_nbformat": 4
 },
 "nbformat": 4,
 "nbformat_minor": 2
}
