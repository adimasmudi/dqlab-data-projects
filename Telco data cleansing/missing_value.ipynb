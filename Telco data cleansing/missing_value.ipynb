{
 "cells": [
  {
   "cell_type": "code",
   "execution_count": 1,
   "metadata": {},
   "outputs": [
    {
     "name": "stdout",
     "output_type": "stream",
     "text": [
      "Total missing values data dari kolom Churn 43\n",
      "Total Rows dan kolom Data setelah dihapus data Missing Values adalah (6950, 22)\n"
     ]
    }
   ],
   "source": [
    "import pandas as pd\n",
    "df_load = pd.read_csv('https://storage.googleapis.com/dqlab-dataset/dqlab_telco.csv')\n",
    "\n",
    "df_load['valid_id'] = df_load['customerID'].astype(str).str.match(r'(45\\d{9,10})')\n",
    "df_load = (df_load[df_load['valid_id'] == True]).drop('valid_id', axis = 1)\n",
    "df_load.drop_duplicates()\n",
    "df_load = df_load.sort_values('UpdatedAt', ascending=False).drop_duplicates('customerID')\n",
    "\n",
    "print('Total missing values data dari kolom Churn',df_load['Churn'].isnull().sum())\n",
    "# Dropping all Rows with spesific column (churn)\n",
    "df_load.dropna(subset=['Churn'],inplace=True)\n",
    "print('Total Rows dan kolom Data setelah dihapus data Missing Values adalah',df_load.shape)"
   ]
  },
  {
   "cell_type": "code",
   "execution_count": 2,
   "metadata": {},
   "outputs": [
    {
     "name": "stdout",
     "output_type": "stream",
     "text": [
      "Status Missing Values : True\n",
      "\n",
      "Jumlah Missing Values masing-masing kolom, adalah:\n",
      "tenure              99\n",
      "MonthlyCharges      26\n",
      "TotalCharges        15\n",
      "UpdatedAt            0\n",
      "DeviceProtection     0\n",
      "PaymentMethod        0\n",
      "PaperlessBilling     0\n",
      "Contract             0\n",
      "StreamingMovies      0\n",
      "StreamingTV          0\n",
      "TechSupport          0\n",
      "OnlineBackup         0\n",
      "customerID           0\n",
      "OnlineSecurity       0\n",
      "InternetService      0\n",
      "MultipleLines        0\n",
      "PhoneService         0\n",
      "Dependents           0\n",
      "Partner              0\n",
      "SeniorCitizen        0\n",
      "gender               0\n",
      "Churn                0\n",
      "dtype: int64\n",
      "\\Jumlah Missing Values setelah di imputer datanya,adalah:\n",
      "UpdatedAt           0\n",
      "customerID          0\n",
      "TotalCharges        0\n",
      "MonthlyCharges      0\n",
      "PaymentMethod       0\n",
      "PaperlessBilling    0\n",
      "Contract            0\n",
      "StreamingMovies     0\n",
      "StreamingTV         0\n",
      "TechSupport         0\n",
      "DeviceProtection    0\n",
      "OnlineBackup        0\n",
      "OnlineSecurity      0\n",
      "InternetService     0\n",
      "MultipleLines       0\n",
      "PhoneService        0\n",
      "tenure              0\n",
      "Dependents          0\n",
      "Partner             0\n",
      "SeniorCitizen       0\n",
      "gender              0\n",
      "Churn               0\n",
      "dtype: int64\n"
     ]
    }
   ],
   "source": [
    "\n",
    "df_load.dropna(subset=['Churn'],inplace=True)\n",
    "\n",
    "print('Status Missing Values :',df_load.isnull().values.any())\n",
    "print('\\nJumlah Missing Values masing-masing kolom, adalah:')\n",
    "print(df_load.isnull().sum().sort_values(ascending=False))\n",
    "\n",
    "#handling missing values Tenure fill with 11\n",
    "df_load['tenure'].fillna(11, inplace=True)\n",
    "\n",
    "#Loop\n",
    "#Handling missing values num vars (except Tenure)\n",
    "for col_name in list(['MonthlyCharges','TotalCharges']):\n",
    "    #write your command here\n",
    "\tdf_load[col_name].fillna(df_load[col_name].median(), inplace=True)\n",
    "\n",
    "print('\\Jumlah Missing Values setelah di imputer datanya,adalah:')\n",
    "print(df_load.isnull().sum().sort_values(ascending=False))"
   ]
  },
  {
   "cell_type": "markdown",
   "metadata": {},
   "source": [
    "Setelah kita analisis lebih lanjut, ternyata masih ada missing values dari data yang kita sudah validkan Id Number pelanggannya. Missing values terdapat pada kolom Churn, tenure, MonthlyCharges & TotalCharges. Setelah kita tangani dengan cara penghapusan rows dan pengisian rows dengan nilai tertentu, terbukti sudah tidak ada missing values lagi pada data, terbukti dari jumlah missing values masing-masing variable yang bernilai 0. Selanjutnya kita akan melakukan penanganan pencilan (outlier)"
   ]
  }
 ],
 "metadata": {
  "interpreter": {
   "hash": "50c5c2b6e05db9fe8b3433ad8e6dc52eedfaade324407e06c6799762d580ed33"
  },
  "kernelspec": {
   "display_name": "Python 3.9.7 64-bit",
   "language": "python",
   "name": "python3"
  },
  "language_info": {
   "codemirror_mode": {
    "name": "ipython",
    "version": 3
   },
   "file_extension": ".py",
   "mimetype": "text/x-python",
   "name": "python",
   "nbconvert_exporter": "python",
   "pygments_lexer": "ipython3",
   "version": "3.9.7"
  },
  "orig_nbformat": 4
 },
 "nbformat": 4,
 "nbformat_minor": 2
}
