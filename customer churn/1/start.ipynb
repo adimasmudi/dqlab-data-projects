{
 "cells": [
  {
   "cell_type": "markdown",
   "metadata": {},
   "source": [
    "# library yang digunakan\n",
    "\n",
    "Pada analisis kali ini, akan digunakan beberapa package yang membantu kita dalam melakukan analisis data,\n",
    "\n",
    "Pandas (Python for Data Analysis) adalah library Python yang fokus untuk proses analisis data seperti manipulasi data, persiapan data, dan pembersihan data.\n",
    "\n",
    "read_csv() digunakan untuk membaca file csv\n",
    "\n",
    "replace() digunakan untuk mengganti nilai\n",
    "\n",
    "value_counts() digunakan untuk mengitung unik dari kolom\n",
    "\n",
    "drop() digunakan untuk menghapus\n",
    "\n",
    "describe() digunakan untuk melihat deskripsi datanya\n",
    "\n",
    "value_counts() digunakan untuk mengitung unik dari kolom\n",
    "\n",
    "Matplotlib adalah library Python yang fokus pada visualisasi data seperti membuat plot grafik. Matplotlib dapat digunakan dalam \n",
    "skrip Python, Python dan IPython shell, server aplikasi web, dan beberapa toolkit graphical user interface (GUI) lainnya.\n",
    "\n",
    "figure() digunakan untuk membuat figure gambar baru\n",
    "\n",
    "subplots()digunakan untuk membuat gambar dan satu set subplot\n",
    "\n",
    "title()digunakan untuk memberi judul pada gambar\n",
    "\n",
    "ylabel()digunakan untuk memberi label sumbu Y pada gambar\n",
    "\n",
    "xlabel()digunakan untuk memberi label sumbu Y pada gambar\n",
    "\n",
    "pie()digunakan untuk membuat pie chart\n",
    "\n",
    "Seaborn membangun plot di atas Matplotlib dan memperkenalkan tipe plot tambahan. Ini juga membuat plot Matplotlib tradisional Anda \n",
    "terlihat lebih cantik.\n",
    "\n",
    "countplot() digunakan untuk membuat plot dengan jumlah pengamatan di setiap bin kategorik variable\n",
    "\n",
    "heatmap() Plot rectangular data as a color-encoded matrix\n",
    "\n",
    "Scikit-learn adalah library dalam Python yang menyediakan banyak algoritma Machine Learning baik untuk Supervised, Unsupervised Learning, maupun digunakan untuk mempreparasi data.\n",
    "\n",
    "LabelEncoder() digunakan untuk merubah nilai dari suatu variable menjadi 0 atau 1\n",
    "\n",
    "train_test_split() digunakan untuk membagi data menjadi 2 row bagian (Training & Testing)\n",
    "\n",
    "LogisticRegression() digunakan untuk memanggil algoritma Logistic Regression\n",
    "\n",
    "RandomForestClassifier() digunakan untuk memanggil algoritma Random Forest Classifier\n",
    "\n",
    "confusion_matrix() digunakan untuk membuat confusion matrix\n",
    "\n",
    "classification_report() digunakan untuk membuat classification report, yang dianataranya berisi akurasi model\n",
    "\n",
    "Xgboost adalah library dalam Python untuk algoritma extreme gradient boosting (xgboost)\n",
    "\n",
    "XGBClassifier() digunakan untuk memanggil algoritma XG Boost Classifier\n",
    "\n",
    "Pickle mengimplementasikan protokol biner untuk serializing dan de-serializing dari struktur objek Python.\n",
    "\n",
    "dump() digunakan untuk menyimpan\n",
    "\n"
   ]
  },
  {
   "cell_type": "code",
   "execution_count": 1,
   "metadata": {},
   "outputs": [],
   "source": [
    "#Import library yang dibutuhkan \n",
    "import pandas as pd\n",
    "import numpy as np\n",
    "import matplotlib.pyplot as plt\n",
    "import seaborn as sns\n",
    "from sklearn.preprocessing import LabelEncoder\n",
    "from sklearn.model_selection import train_test_split\n",
    "from sklearn.linear_model import LogisticRegression\n",
    "from sklearn.ensemble import RandomForestClassifier\n",
    "from sklearn.ensemble import GradientBoostingClassifier\n",
    "from sklearn.metrics import confusion_matrix, classification_report\n",
    "import pickle\n",
    "from pathlib import Path"
   ]
  },
  {
   "cell_type": "markdown",
   "metadata": {},
   "source": [
    "# Data yang Digunakan\n",
    "\n",
    "Untuk Dataset yang digunakan sudah disediakan dalam format csv, silahkan baca melalui fungsi pandas di python df_load = pd.read_csv('https://storage.googleapis.com/dqlab-dataset/dqlab_telco_final.csv')\n",
    "\n",
    " \n",
    "Untuk detil datanya adalah sebagai berikut:\n",
    "\n",
    "UpdatedAt Periode of Data taken\n",
    "\n",
    "customerID Customer ID\n",
    "\n",
    "gender Whether the customer is a male or a female (Male, Female)\n",
    "\n",
    "SeniorCitizen Whether the customer is a senior citizen or not (Yes, No)\n",
    "\n",
    "Partner Whether the customer has a partner or not (Yes, No)\n",
    "\n",
    "tenure Number of months the customer has stayed with the company\n",
    "\n",
    "PhoneService Whether the customer has a phone service or not (Yes, No)\n",
    "\n",
    "InternetService Customer’s internet service provider (Yes, No)\n",
    "\n",
    "StreamingTV Whether the customer has streaming TV or not (Yes, No)\n",
    "\n",
    "PaperlessBilling Whether the customer has paperless billing or not (Yes, No)\n",
    "\n",
    "MonthlyCharges The amount charged to the customer monthly\n",
    "\n",
    "TotalCharges The total amount charged to the customer\n",
    "\n",
    "Churn Whether the customer churned or not (Yes, No)"
   ]
  },
  {
   "cell_type": "code",
   "execution_count": 2,
   "metadata": {},
   "outputs": [
    {
     "name": "stdout",
     "output_type": "stream",
     "text": [
      "(6950, 13)\n",
      "   UpdatedAt   customerID  gender SeniorCitizen Partner  tenure PhoneService  \\\n",
      "0     202006  45759018157  Female            No     Yes       1           No   \n",
      "1     202006  45315483266    Male            No     Yes      60          Yes   \n",
      "2     202006  45236961615    Male            No      No       5          Yes   \n",
      "3     202006  45929827382  Female            No     Yes      72          Yes   \n",
      "4     202006  45305082233  Female            No     Yes      56          Yes   \n",
      "\n",
      "  StreamingTV InternetService PaperlessBilling  MonthlyCharges  TotalCharges  \\\n",
      "0          No             Yes              Yes           29.85         29.85   \n",
      "1          No              No              Yes           20.50       1198.80   \n",
      "2         Yes             Yes               No          104.10        541.90   \n",
      "3         Yes             Yes              Yes          115.50       8312.75   \n",
      "4         Yes             Yes               No           81.25       4620.40   \n",
      "\n",
      "  Churn  \n",
      "0    No  \n",
      "1    No  \n",
      "2   Yes  \n",
      "3    No  \n",
      "4    No  \n",
      "6950\n"
     ]
    }
   ],
   "source": [
    "import pandas as pd\n",
    "#import dataset\n",
    "df_load = pd.read_csv(\"https://storage.googleapis.com/dqlab-dataset/dqlab_telco_final.csv\")\n",
    "\n",
    "#Tampilkan bentuk dari dataset\n",
    "print(df_load.shape)\n",
    "\n",
    "#Tampilkan 5 data teratas\n",
    "print(df_load.head())\n",
    "\n",
    "#Tampilkan jumlah ID yang unik\n",
    "print(df_load.customerID.nunique())"
   ]
  },
  {
   "cell_type": "markdown",
   "metadata": {},
   "source": [
    "# Exploratory Data Analysis\n",
    "\n",
    "Exploratory Data Analysis memungkinkan analyst memahami isi data yang digunakan, mulai dari distribusi, frekuensi, korelasi dan lainnya. Pada umumnya EDA dilakukan dengan beberapa cara:\n",
    "\n",
    "Univariat Analysis — analisis deskriptif dengan satu variabel.\n",
    "\n",
    "Bivariat Analysis — analisis relasi dengan dua variabel yang biasanya dengan target variabel.\n",
    "\n",
    "Multivariat Analysis — analisis yang menggunakan lebih dari atau sama dengan tiga variabel.\n",
    "\n",
    "Dalam kasus ini, kamu diminta untuk melihat persebaran dari:\n",
    "\n",
    "Prosentase persebaran data Churn dan tidaknya dari seluruh data\n",
    "\n",
    "Persebarang data dari variable predictor terhadap label (Churn)"
   ]
  },
  {
   "cell_type": "code",
   "execution_count": 3,
   "metadata": {},
   "outputs": [],
   "source": [
    "#import matplotlib dan seaborn\n",
    "import matplotlib.pyplot as plt\n",
    "import seaborn as sns"
   ]
  },
  {
   "cell_type": "markdown",
   "metadata": {},
   "source": [
    "# Memvisualisasikan Persentase Churn\n",
    "\n",
    "Kita ingin melihat visualisasi data secara univariat terkait prosentase data churn dari pelanggan. Gunakan fungsi value_counts() untuk menghitung banyaknya unik dari sebuah kolom, pie() untuk membuat pie chart"
   ]
  },
  {
   "cell_type": "code",
   "execution_count": 4,
   "metadata": {},
   "outputs": [
    {
     "data": {
      "image/png": "[encoded data removed]",
      "text/plain": [
       "<Figure size 432x288 with 1 Axes>"
      ]
     },
     "metadata": {},
     "output_type": "display_data"
    }
   ],
   "source": [
    "import numpy as np\n",
    "import pandas as pd\n",
    "import matplotlib.pyplot as plt\n",
    "import seaborn as sns\n",
    "\n",
    "df_load = pd.read_csv('https://storage.googleapis.com/dqlab-dataset/dqlab_telco_final.csv')\n",
    "\n",
    "#Your codes here\n",
    "fig = plt.figure()\n",
    "ax = fig.add_axes([0,0,1,1])\n",
    "ax.axis('equal')\n",
    "labels = ['yes','no']\n",
    "churn = df_load.Churn.value_counts()\n",
    "ax.pie(churn, labels=labels, autopct='%.0f%%')\n",
    "plt.title('Persentase Churn')\n",
    "plt.show()"
   ]
  },
  {
   "cell_type": "code",
   "execution_count": null,
   "metadata": {},
   "outputs": [],
   "source": []
  }
 ],
 "metadata": {
  "interpreter": {
   "hash": "50c5c2b6e05db9fe8b3433ad8e6dc52eedfaade324407e06c6799762d580ed33"
  },
  "kernelspec": {
   "display_name": "Python 3.9.7 64-bit",
   "language": "python",
   "name": "python3"
  },
  "language_info": {
   "codemirror_mode": {
    "name": "ipython",
    "version": 3
   },
   "file_extension": ".py",
   "mimetype": "text/x-python",
   "name": "python",
   "nbconvert_exporter": "python",
   "pygments_lexer": "ipython3",
   "version": "3.9.7"
  },
  "orig_nbformat": 4
 },
 "nbformat": 4,
 "nbformat_minor": 2
}
